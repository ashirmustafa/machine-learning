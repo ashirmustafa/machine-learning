{
 "cells": [
  {
   "cell_type": "code",
   "execution_count": 36,
   "metadata": {},
   "outputs": [
    {
     "name": "stdout",
     "output_type": "stream",
     "text": [
      "🔹 Missing Values:\n",
      " Make          0\n",
      "Model         0\n",
      "Year          0\n",
      "Mileage       0\n",
      "EngineSize    0\n",
      "FuelType      0\n",
      "Price         0\n",
      "dtype: int64\n",
      "\n",
      "🔹 Variance Inflation Factor (VIF) Scores:\n",
      "      Feature        VIF\n",
      "2        Year  17.257069\n",
      "4  EngineSize   8.488756\n",
      "3     Mileage   4.635105\n",
      "1       Model   3.827806\n",
      "0        Make   3.542478\n",
      "5    FuelType   2.815736\n",
      "\n",
      "🔹 Model Performance Metrics:\n",
      "Mean Squared Error: 0.08\n",
      "R² Score: 1.00\n"
     ]
    }
   ],
   "source": [
    "import pandas as pd\n",
    "import numpy as np\n",
    "from statsmodels.stats.outliers_influence import variance_inflation_factor\n",
    "from sklearn.model_selection import train_test_split\n",
    "from sklearn.preprocessing import LabelEncoder\n",
    "from sklearn.linear_model import LinearRegression\n",
    "from sklearn.metrics import mean_squared_error, r2_score\n",
    "\n",
    "# 1️⃣ Load Data\n",
    "df = pd.read_csv(\"car_Data.csv\")\n",
    "\n",
    "# 2️⃣ Check for missing values\n",
    "print(\"🔹 Missing Values:\\n\", df.isnull().sum())\n",
    "\n",
    "# 3️⃣ Drop missing values (if any)\n",
    "df.dropna(inplace=True)\n",
    "\n",
    "# 4️⃣ Encode categorical variables\n",
    "categorical_cols = [\"Make\", \"Model\", \"FuelType\"]  # Adjust column names if needed\n",
    "label_encoders = {}\n",
    "\n",
    "for col in categorical_cols:\n",
    "    le = LabelEncoder()\n",
    "    df[col] = le.fit_transform(df[col])\n",
    "    label_encoders[col] = le  # Store encoders for reference\n",
    "\n",
    "# 5️⃣ Define features & target\n",
    "X = df.drop(columns=[\"Price\"])  # Features\n",
    "y = df[\"Price\"]  # Target variable\n",
    "\n",
    "# 6️⃣ Calculate Variance Inflation Factor (VIF)\n",
    "vif_data = pd.DataFrame()\n",
    "vif_data[\"Feature\"] = X.columns\n",
    "vif_data[\"VIF\"] = [variance_inflation_factor(X.values, i) for i in range(X.shape[1])]\n",
    "\n",
    "print(\"\\n🔹 Variance Inflation Factor (VIF) Scores:\")\n",
    "print(vif_data.sort_values(by=\"VIF\", ascending=False))\n",
    "\n",
    "# 7️⃣ Split Data\n",
    "X_train, X_test, y_train, y_test = train_test_split(X, y, test_size=0.2, random_state=42)\n",
    "\n",
    "# 8️⃣ Train Linear Regression Model\n",
    "model = LinearRegression()\n",
    "model.fit(X_train, y_train)\n",
    "\n",
    "# 🔟 Predictions\n",
    "y_pred = model.predict(X_test)\n",
    "\n",
    "# 🔹 Model Evaluation\n",
    "mse = mean_squared_error(y_test, y_pred)\n",
    "r2 = r2_score(y_test, y_pred)\n",
    "\n",
    "print(\"\\n🔹 Model Performance Metrics:\")\n",
    "print(f\"Mean Squared Error: {mse:.2f}\")\n",
    "print(f\"R² Score: {r2:.2f}\")\n"
   ]
  }
 ],
 "metadata": {
  "kernelspec": {
   "display_name": "Python 3",
   "language": "python",
   "name": "python3"
  },
  "language_info": {
   "codemirror_mode": {
    "name": "ipython",
    "version": 3
   },
   "file_extension": ".py",
   "mimetype": "text/x-python",
   "name": "python",
   "nbconvert_exporter": "python",
   "pygments_lexer": "ipython3",
   "version": "3.13.1"
  }
 },
 "nbformat": 4,
 "nbformat_minor": 2
}
